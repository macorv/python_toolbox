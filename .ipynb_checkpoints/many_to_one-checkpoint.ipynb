{
 "cells": [
  {
   "cell_type": "markdown",
   "metadata": {},
   "source": [
    "# Script Many to One Excel (varias hojas)"
   ]
  },
  {
   "cell_type": "markdown",
   "metadata": {},
   "source": [
    "Este es un script que toma todos los archivos con una determinada extensión (.xlsx o .csv) en un directorio y permite copiarlos en diferentes hojas de un único libro Excel."
   ]
  },
  {
   "cell_type": "code",
   "execution_count": 42,
   "metadata": {},
   "outputs": [],
   "source": [
    "import os\n",
    "import pandas as pd\n",
    "\n",
    "# Listo todos los archivos en el directorio que tengan la extension definida\n",
    "path = '/path/to/files/'\n",
    "\n",
    "# Defino la extension de los archivos que voy a leer (util si en el directorio existen varios archivos)\n",
    "ext = '.xlsx'\n",
    "\n",
    "# Nombro el archivo final\n",
    "archivo_compilado = path + '/final.xlsx'\n",
    "\n",
    "# Leo todos los archivos en el directorio con la extension seleccionada\n",
    "archivos = os.listdir(path)\n",
    "df_dict = {}\n",
    "for k,file in enumerate(archivos):\n",
    "    path_file = path + '/' + file\n",
    "    if file.endswith(ext):\n",
    "        '''Con la condicion anterior solo filtro archivos con la extension seleccionada'''\n",
    "        if ext == '.xlsx':\n",
    "            df_dict[k] = pd.read_excel(path_file)\n",
    "        elif ext == '.csv':\n",
    "            pd.read_csv(path_file)\n",
    "            df_dict[k] = pd.read_csv(path_file)\n",
    "\n",
    "# Finalmente, paso todos los datos en diferentes hojas de un solo libro\n",
    "with pd.ExcelWriter(archivo_compilado) as writer:\n",
    "    for k in df_dict:\n",
    "        hoja = 'hoja' + str(k)\n",
    "        df_dict[k].to_excel(writer, sheet_name=hoja)"
   ]
  }
 ],
 "metadata": {
  "kernelspec": {
   "display_name": "Python 3",
   "language": "python",
   "name": "python3"
  },
  "language_info": {
   "codemirror_mode": {
    "name": "ipython",
    "version": 3
   },
   "file_extension": ".py",
   "mimetype": "text/x-python",
   "name": "python",
   "nbconvert_exporter": "python",
   "pygments_lexer": "ipython3",
   "version": "3.6.4"
  }
 },
 "nbformat": 4,
 "nbformat_minor": 2
}
